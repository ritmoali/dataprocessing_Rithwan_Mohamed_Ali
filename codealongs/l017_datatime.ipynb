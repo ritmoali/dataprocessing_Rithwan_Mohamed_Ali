{
 "cells": [
  {
   "cell_type": "markdown",
   "metadata": {},
   "source": [
    "### Working with data and time in python"
   ]
  },
  {
   "cell_type": "code",
   "execution_count": 1,
   "metadata": {},
   "outputs": [],
   "source": [
    "from datetime import datetime,timedelta,date, time"
   ]
  },
  {
   "cell_type": "code",
   "execution_count": 2,
   "metadata": {},
   "outputs": [
    {
     "data": {
      "text/plain": [
       "datetime.datetime"
      ]
     },
     "execution_count": 2,
     "metadata": {},
     "output_type": "execute_result"
    }
   ],
   "source": [
    "now = datetime.now()\n",
    "type(now)\n"
   ]
  },
  {
   "cell_type": "code",
   "execution_count": 3,
   "metadata": {},
   "outputs": [
    {
     "name": "stdout",
     "output_type": "stream",
     "text": [
      " 2023-11-12 10:14:24.257051\n"
     ]
    }
   ],
   "source": [
    "print(f\" {now}\")\n",
    "\n"
   ]
  },
  {
   "cell_type": "code",
   "execution_count": 4,
   "metadata": {},
   "outputs": [
    {
     "name": "stdout",
     "output_type": "stream",
     "text": [
      "2023-12-24 00:00:00\n"
     ]
    }
   ],
   "source": [
    "christmas= datetime(2023, 12, 24)\n",
    "print(christmas)"
   ]
  },
  {
   "cell_type": "code",
   "execution_count": 5,
   "metadata": {},
   "outputs": [
    {
     "name": "stdout",
     "output_type": "stream",
     "text": [
      "2024-01-01 00:00:00\n"
     ]
    }
   ],
   "source": [
    "new_year = \"2024-01-01\"\n",
    "next_year = datetime.strptime(new_year, \"%Y-%m-%d\")\n",
    "print(next_year)\n"
   ]
  },
  {
   "cell_type": "code",
   "execution_count": 6,
   "metadata": {},
   "outputs": [
    {
     "name": "stdout",
     "output_type": "stream",
     "text": [
      "now.year =2023 \n",
      "now.month =11 \n",
      "now.day =12 \n",
      "now.hour =10 \n",
      "now.minute =14 \n",
      "now.second =24 \n",
      "now.microsecond =257051 \n",
      "now.weekday()=6\n",
      "now.isocalendar() =datetime.IsoCalendarDate(year=2023, week=45, weekday=7)\n"
     ]
    }
   ],
   "source": [
    "print(f\"{now.year =} \")\n",
    "print(f\"{now.month =} \")\n",
    "print(f\"{now.day =} \")\n",
    "print(f\"{now.hour =} \")\n",
    "print(f\"{now.minute =} \")\n",
    "print(f\"{now.second =} \")\n",
    "print(f\"{now.microsecond =} \")\n",
    "\n",
    "print(f\"{now.weekday()=}\")\n",
    "print(f\"{now.isocalendar() =}\")"
   ]
  },
  {
   "cell_type": "code",
   "execution_count": 7,
   "metadata": {},
   "outputs": [
    {
     "name": "stdout",
     "output_type": "stream",
     "text": [
      "now.strftime('%Y-%m-%d') = '2023-11-12' \n",
      "now.strftime('Today is a %A in %B') = 'Today is a Sunday in November' \n"
     ]
    }
   ],
   "source": [
    "print(f\"{now.strftime('%Y-%m-%d') = } \")\n",
    "print(f\"{now.strftime('Today is a %A in %B') = } \")\n"
   ]
  },
  {
   "cell_type": "code",
   "execution_count": 8,
   "metadata": {},
   "outputs": [
    {
     "name": "stdout",
     "output_type": "stream",
     "text": [
      "2023-11-12\n",
      "2023-11-12\n"
     ]
    }
   ],
   "source": [
    "print(now.date())\n",
    "print(now.date())"
   ]
  },
  {
   "cell_type": "markdown",
   "metadata": {},
   "source": [
    "### Timedelta"
   ]
  },
  {
   "cell_type": "code",
   "execution_count": 9,
   "metadata": {},
   "outputs": [
    {
     "data": {
      "text/plain": [
       "datetime.timedelta"
      ]
     },
     "execution_count": 9,
     "metadata": {},
     "output_type": "execute_result"
    }
   ],
   "source": [
    "# calculating two diff detween to datetime gives us a timedelta object\n",
    "time_until_next_year = next_year - now\n",
    "type(time_until_next_year)"
   ]
  },
  {
   "cell_type": "code",
   "execution_count": 10,
   "metadata": {},
   "outputs": [
    {
     "name": "stdout",
     "output_type": "stream",
     "text": [
      "str(time_until_next_year) = '49 days, 13:45:35.742949'\n",
      "repr(time_until_next_year) = 'datetime.timedelta(days=49, seconds=49535, microseconds=742949)'\n"
     ]
    }
   ],
   "source": [
    "print(f\"{str(time_until_next_year) = }\")\n",
    "print(f\"{repr(time_until_next_year) = }\")\n"
   ]
  },
  {
   "cell_type": "code",
   "execution_count": 11,
   "metadata": {},
   "outputs": [
    {
     "name": "stdout",
     "output_type": "stream",
     "text": [
      "49 days, 13:45:35.706860\n"
     ]
    }
   ],
   "source": [
    "print(next_year - datetime.now()) "
   ]
  },
  {
   "cell_type": "code",
   "execution_count": 15,
   "metadata": {},
   "outputs": [
    {
     "name": "stdout",
     "output_type": "stream",
     "text": [
      "time_until_next_year.days = 49\n",
      "time_until_next_year.seconds = 49535\n",
      "time_until_next_year.microseconds = 742949\n",
      "time_until_next_year.total_seconds() = 4283135.742949\n"
     ]
    }
   ],
   "source": [
    "# timedelta parts:\n",
    "print(f\"{time_until_next_year.days = }\")\n",
    "print(f\"{time_until_next_year.seconds = }\")\n",
    "print(f\"{time_until_next_year.microseconds = }\")\n",
    "print(f\"{time_until_next_year.total_seconds() = }\")"
   ]
  },
  {
   "cell_type": "code",
   "execution_count": 17,
   "metadata": {},
   "outputs": [
    {
     "data": {
      "text/plain": [
       "datetime.timedelta(days=99, seconds=12671, microseconds=485898)"
      ]
     },
     "execution_count": 17,
     "metadata": {},
     "output_type": "execute_result"
    }
   ],
   "source": [
    "# Arithmetic can be applied on timedelta \n",
    "time_until_next_year * 2"
   ]
  },
  {
   "cell_type": "code",
   "execution_count": 19,
   "metadata": {},
   "outputs": [
    {
     "name": "stdout",
     "output_type": "stream",
     "text": [
      "2024-04-09 03:31:11.485898\n"
     ]
    }
   ],
   "source": [
    "# Adding (or subtracting) a timedelta to a datetime gives us a new datetime\n",
    "print(next_year + time_until_next_year * 2)"
   ]
  },
  {
   "cell_type": "code",
   "execution_count": 20,
   "metadata": {},
   "outputs": [
    {
     "name": "stdout",
     "output_type": "stream",
     "text": [
      "2023-11-05 10:26:39.837388\n"
     ]
    }
   ],
   "source": [
    "print(datetime.now() - timedelta(7))"
   ]
  },
  {
   "cell_type": "code",
   "execution_count": 22,
   "metadata": {},
   "outputs": [],
   "source": [
    "from dateutil.relativedelta import relativedelta "
   ]
  },
  {
   "cell_type": "code",
   "execution_count": 23,
   "metadata": {},
   "outputs": [
    {
     "name": "stdout",
     "output_type": "stream",
     "text": [
      "2023-11-26 10:31:34.559096\n"
     ]
    }
   ],
   "source": [
    "print(datetime.now() + relativedelta(weeks=2))\n"
   ]
  },
  {
   "cell_type": "code",
   "execution_count": null,
   "metadata": {},
   "outputs": [],
   "source": []
  }
 ],
 "metadata": {
  "kernelspec": {
   "display_name": "dataprocessing_Rithwan_Mohamed_Ali-jdCu2s_4",
   "language": "python",
   "name": "python3"
  },
  "language_info": {
   "codemirror_mode": {
    "name": "ipython",
    "version": 3
   },
   "file_extension": ".py",
   "mimetype": "text/x-python",
   "name": "python",
   "nbconvert_exporter": "python",
   "pygments_lexer": "ipython3",
   "version": "3.11.5"
  }
 },
 "nbformat": 4,
 "nbformat_minor": 2
}

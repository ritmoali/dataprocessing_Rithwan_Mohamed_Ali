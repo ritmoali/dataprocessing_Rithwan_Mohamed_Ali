{
 "cells": [
  {
   "cell_type": "markdown",
   "metadata": {},
   "source": [
    "**pseudonymization** Replicing identification information in such a way that the proccess can be reversed(with extra information)\n",
    "\n",
    "**Anonymization**: Replacing indentifying infomration with the intent to be fully non-reversible\n",
    "### Teckniques  for anonymation \n",
    "- **Hashing / Crypto** Fredrik Johansson => abd8777899da90ajua0u \n",
    "-**Data masking** fredrik@everyloop.com => f****@****.com\n",
    "- **Generalization** Age: 34 => Age: 30-40\n",
    "- **Aggregation** Group and aggregate\n",
    "_**Removing data Removing column/colums from dataset"
   ]
  },
  {
   "cell_type": "markdown",
   "metadata": {},
   "source": [
    "# Anonimization with hash\n",
    "- The are many types of hash functions (algorithms). Example MDS, SHA-128, SHA256\n",
    "- hasg functions are used to map data of arbitrary size to fixed-size values\n",
    "- The same input always results in  the same output (given it's using the same algorithm)\n",
    "- (even a small change in the input yields totally different output strings  )\n",
    "- It's not possible to reverised the process (i.e, given the output hssh we can not get the original string back)"
   ]
  },
  {
   "cell_type": "code",
   "execution_count": 14,
   "metadata": {},
   "outputs": [
    {
     "data": {
      "text/plain": [
       "'d48be31cc172a815f6dedb3519463a5b41e472a83e7621aab89a89f8840ed203'"
      ]
     },
     "execution_count": 14,
     "metadata": {},
     "output_type": "execute_result"
    }
   ],
   "source": [
    "import hashlib as hl\n",
    "\n",
    "text= \"Top secret information\".encode('utf-8')\n",
    "\n",
    "hl.sha256(text).hexdigest()\n"
   ]
  },
  {
   "cell_type": "code",
   "execution_count": 17,
   "metadata": {},
   "outputs": [
    {
     "name": "stdout",
     "output_type": "stream",
     "text": [
      "hl.sha256('Hello world'.encode()).hexdigest()= '64ec88ca00b268e5ba1a35678a1b5316d212f4f366b2477232534a8aeca37f3c'\n",
      "hl.sha256('Hello world'.encode()).hexdigest()= '64ec88ca00b268e5ba1a35678a1b5316d212f4f366b2477232534a8aeca37f3c'\n"
     ]
    }
   ],
   "source": [
    "print(f\"{hl.sha256('Hello world'.encode()).hexdigest()= }\")\n",
    "print(f\"{hl.sha256('Hello world'.encode()).hexdigest()= }\")"
   ]
  },
  {
   "cell_type": "code",
   "execution_count": 18,
   "metadata": {},
   "outputs": [],
   "source": [
    "import pandas as pd"
   ]
  },
  {
   "cell_type": "code",
   "execution_count": 26,
   "metadata": {},
   "outputs": [
    {
     "data": {
      "text/html": [
       "<div>\n",
       "<style scoped>\n",
       "    .dataframe tbody tr th:only-of-type {\n",
       "        vertical-align: middle;\n",
       "    }\n",
       "\n",
       "    .dataframe tbody tr th {\n",
       "        vertical-align: top;\n",
       "    }\n",
       "\n",
       "    .dataframe thead th {\n",
       "        text-align: right;\n",
       "    }\n",
       "</style>\n",
       "<table border=\"1\" class=\"dataframe\">\n",
       "  <thead>\n",
       "    <tr style=\"text-align: right;\">\n",
       "      <th></th>\n",
       "      <th>first_name</th>\n",
       "      <th>last_name</th>\n",
       "      <th>job_title</th>\n",
       "      <th>salary</th>\n",
       "      <th>department</th>\n",
       "    </tr>\n",
       "  </thead>\n",
       "  <tbody>\n",
       "    <tr>\n",
       "      <th>0</th>\n",
       "      <td>John</td>\n",
       "      <td>Doe</td>\n",
       "      <td>Sales Director</td>\n",
       "      <td>120000</td>\n",
       "      <td>Sales</td>\n",
       "    </tr>\n",
       "    <tr>\n",
       "      <th>1</th>\n",
       "      <td>Jane</td>\n",
       "      <td>Smith</td>\n",
       "      <td>HR Coordinator</td>\n",
       "      <td>60000</td>\n",
       "      <td>Human Resources</td>\n",
       "    </tr>\n",
       "    <tr>\n",
       "      <th>2</th>\n",
       "      <td>Michael</td>\n",
       "      <td>Johnson</td>\n",
       "      <td>Software Engineer</td>\n",
       "      <td>110000</td>\n",
       "      <td>IT</td>\n",
       "    </tr>\n",
       "    <tr>\n",
       "      <th>3</th>\n",
       "      <td>Sarah</td>\n",
       "      <td>Williams</td>\n",
       "      <td>Marketing Specialist</td>\n",
       "      <td>75000</td>\n",
       "      <td>Sales</td>\n",
       "    </tr>\n",
       "    <tr>\n",
       "      <th>4</th>\n",
       "      <td>David</td>\n",
       "      <td>Brown</td>\n",
       "      <td>HR Manager</td>\n",
       "      <td>90000</td>\n",
       "      <td>Human Resources</td>\n",
       "    </tr>\n",
       "  </tbody>\n",
       "</table>\n",
       "</div>"
      ],
      "text/plain": [
       "  first_name last_name             job_title  salary       department\n",
       "0       John       Doe        Sales Director  120000            Sales\n",
       "1       Jane     Smith        HR Coordinator   60000  Human Resources\n",
       "2    Michael   Johnson     Software Engineer  110000               IT\n",
       "3      Sarah  Williams  Marketing Specialist   75000            Sales\n",
       "4      David     Brown            HR Manager   90000  Human Resources"
      ]
     },
     "execution_count": 26,
     "metadata": {},
     "output_type": "execute_result"
    }
   ],
   "source": [
    "employees = pd.read_json(\"../data/employees.json\")\n",
    "employees.head()"
   ]
  },
  {
   "cell_type": "code",
   "execution_count": null,
   "metadata": {},
   "outputs": [],
   "source": [
    "employees[\"Fir\"]"
   ]
  }
 ],
 "metadata": {
  "kernelspec": {
   "display_name": "dataprocessing_Rithwan_Mohamed_Ali-jdCu2s_4",
   "language": "python",
   "name": "python3"
  },
  "language_info": {
   "codemirror_mode": {
    "name": "ipython",
    "version": 3
   },
   "file_extension": ".py",
   "mimetype": "text/x-python",
   "name": "python",
   "nbconvert_exporter": "python",
   "pygments_lexer": "ipython3",
   "version": "3.11.5"
  }
 },
 "nbformat": 4,
 "nbformat_minor": 2
}

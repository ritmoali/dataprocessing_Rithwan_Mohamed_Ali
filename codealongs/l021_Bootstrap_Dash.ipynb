{
 "cells": [
  {
   "cell_type": "code",
   "execution_count": 13,
   "metadata": {},
   "outputs": [
    {
     "ename": "SyntaxError",
     "evalue": "invalid syntax. Perhaps you forgot a comma? (1902348346.py, line 22)",
     "output_type": "error",
     "traceback": [
      "\u001b[0;36m  Cell \u001b[0;32mIn[13], line 22\u001b[0;36m\u001b[0m\n\u001b[0;31m    dbc.Col(\u001b[0m\n\u001b[0m    ^\u001b[0m\n\u001b[0;31mSyntaxError\u001b[0m\u001b[0;31m:\u001b[0m invalid syntax. Perhaps you forgot a comma?\n"
     ]
    }
   ],
   "source": [
    "from dash import Dash, html, dcc, callback, Output, Input\n",
    "import dash_bootstrap_components as dbc\n",
    "\n",
    "app = Dash(__name__, external_stylesheets=[dbc.themes.CYBORG])\n",
    "\n",
    "app.layout = dbc.Container([\n",
    "    #\"Hello bootstrap!\", \n",
    "    #dbc.Button(\"Click here!\", color=\"primary\", className=\"ms-2 mt-2\")\n",
    "    \n",
    "    dbc.Row([\n",
    "        dbc.Col(\n",
    "            dbc.Input(type=\"text\", placeholder=\"First name:\"), \n",
    "            className=\"mt-2\",\n",
    "            width={\"size\": 3, \"offset\": 0}\n",
    "        ),\n",
    "        dbc.Col(\n",
    "            dbc.Input(type=\"text\", placeholder=\"First name:\"), \n",
    "            className=\"mt-2\",\n",
    "            xs=12, sm=6, md=6, lg=3\n",
    "        ),\n",
    "        \n",
    "        dbc.Col(\n",
    "            children=[\n",
    "                dbc.Input(type=\"text\", placeholder=\"Last name:\", className=\"mt-2\"),\n",
    "                dbc.Input(type=\"text\", placeholder=\"Last name:\", className=\"mt-2\"),\n",
    "                dbc.Input(type=\"text\", placeholder=\"Last name:\", className=\"mt-2\"),\n",
    "                \n",
    "                xs=12, sm=6, md=6, lg=3]\n",
    "                \n",
    "            \n",
    "\n",
    "        )\n",
    "        dbc.Col(\n",
    "            dbc.Input(type=\"text\", placeholder=\"First name:\"), \n",
    "            className=\"mt-2\",\n",
    "            xs=12, sm=6, md=6, lg=3\n",
    "        ),\n",
    "    ])\n",
    "])\n",
    "\n",
    "\n",
    "app.run(debug=True, jupyter_mode=\"external\")"
   ]
  }
 ],
 "metadata": {
  "kernelspec": {
   "display_name": "dataprocessing_Rithwan_Mohamed_Ali-jdCu2s_4",
   "language": "python",
   "name": "python3"
  },
  "language_info": {
   "codemirror_mode": {
    "name": "ipython",
    "version": 3
   },
   "file_extension": ".py",
   "mimetype": "text/x-python",
   "name": "python",
   "nbconvert_exporter": "python",
   "pygments_lexer": "ipython3",
   "version": "3.11.5"
  }
 },
 "nbformat": 4,
 "nbformat_minor": 2
}

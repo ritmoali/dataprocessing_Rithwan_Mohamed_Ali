{
 "cells": [
  {
   "cell_type": "markdown",
   "metadata": {},
   "source": [
    "### Excercise 3\n"
   ]
  },
  {
   "cell_type": "markdown",
   "metadata": {},
   "source": [
    "## KPI:er[Covid19-Labb1] \n",
    "\n",
    " \n",
    "\n",
    "tala antalet vaccindoser administrerade: \n",
    "\n",
    "Detta ger en övergripande bild av den totala volymen av vaccinering som har utförts i hela landet. \n",
    "\n",
    " \n",
    "\n",
    "Andel av befolkningen som har fått minst en dos: \n",
    "\n",
    "Detta KPI ger en indikation på hur många människor som har fått åtminstone en dos och därmed en grundläggande nivå av immunitet. \n",
    "\n",
    " \n",
    "\n",
    "Andel av befolkningen som är fullvaccinerad: \n",
    "\n",
    "Detta KPI fokuserar på hur många personer som har fått alla nödvändiga doser och därmed uppnått fullständig vaccination. \n",
    "\n",
    " \n",
    "\n",
    "Daglig vaccineringstakt: \n",
    "\n",
    "Detta KPI ger insikt i hur snabbt vaccinationsarbetet fortskrider på daglig basis och kan hjälpa till att identifiera trender och möjliga flaskhalsar. \n",
    "\n",
    " \n",
    "\n",
    "Geografisk täckning: \n",
    "\n",
    "Att belysa vilka regioner och kommuner som har hög eller låg vaccintäckning ger en möjlighet att anpassa strategier och resurser efter behov. \n",
    "\n",
    " \n",
    "\n",
    "Andel sårbara grupper som är vaccinerade: \n",
    "\n",
    "Detta KPI fokuserar på vaccinationstäckningen inom grupper som är särskilt utsatta för allvarliga komplikationer av Covid-19, såsom äldre och personer med underliggande hälsotillstånd. \n",
    "\n",
    " \n",
    "\n",
    " \n",
    "\n",
    " \n",
    "\n",
    " \n",
    "\n",
    "Andel av befolkningen som har fått minst en dos/ Geografisk täckning:: \n",
    "\n",
    "Jag har gjort en dataanalys på Andelen av befolkningen som har fått minst en 1 dos och vilka kommuner regioner och kommuner som har hög eller låg vaccintäckning.  \n",
    "\n",
    "Jag har kommit fram till att, mindre regioner eller län, resulterade högre andel vaccinerade I det respektiva regionen eller länen. Till exempel visade sig 92,4% av hela Örebro län vaccinerade med minst 1 dos I jämförelse med Stockholms läns 85,4%. Man kan tolka det som  att Örebro län  har högre Andel vaccinerade med minst 1 dos.  "
   ]
  },
  {
   "cell_type": "markdown",
   "metadata": {},
   "source": []
  }
 ],
 "metadata": {
  "kernelspec": {
   "display_name": "dataprocessing_Rithwan_Mohamed_Ali-jdCu2s_4",
   "language": "python",
   "name": "python3"
  },
  "language_info": {
   "name": "python",
   "version": "3.11.5"
  }
 },
 "nbformat": 4,
 "nbformat_minor": 2
}

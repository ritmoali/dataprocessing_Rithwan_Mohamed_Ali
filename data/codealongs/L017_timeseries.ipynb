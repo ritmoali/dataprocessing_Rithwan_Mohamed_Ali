{
 "cells": [
  {
   "cell_type": "markdown",
   "metadata": {},
   "source": [
    "## pandas time series \n",
    "A series or dataframe using a datetime index instead of "
   ]
  },
  {
   "cell_type": "code",
   "execution_count": 1,
   "metadata": {},
   "outputs": [],
   "source": [
    "import pandas as pd\n",
    "import numpy as np "
   ]
  },
  {
   "cell_type": "markdown",
   "metadata": {},
   "source": [
    "### Creating a datetimeindex\n",
    "Use date_range() with 3 of the parameters.\n",
    "- Start\n",
    "- End \n",
    "- periods\n",
    "- freq "
   ]
  },
  {
   "cell_type": "code",
   "execution_count": 2,
   "metadata": {},
   "outputs": [
    {
     "ename": "ValueError",
     "evalue": "Of the four parameters: start, end, periods, and freq, exactly three must be specified",
     "output_type": "error",
     "traceback": [
      "\u001b[0;31m---------------------------------------------------------------------------\u001b[0m",
      "\u001b[0;31mValueError\u001b[0m                                Traceback (most recent call last)",
      "\u001b[1;32m/Users/rithwanali/Documents/dataprocessing_Rithwan_Mohamed_Ali/Data_lab/L017_timeseries.ipynb Cell 4\u001b[0m line \u001b[0;36m1\n\u001b[0;32m----> <a href='vscode-notebook-cell:/Users/rithwanali/Documents/dataprocessing_Rithwan_Mohamed_Ali/Data_lab/L017_timeseries.ipynb#W6sZmlsZQ%3D%3D?line=0'>1</a>\u001b[0m datatimeindex \u001b[39m=\u001b[39m pd\u001b[39m.\u001b[39;49mdate_range(start\u001b[39m=\u001b[39;49m\u001b[39m'\u001b[39;49m\u001b[39m2018-01-01\u001b[39;49m\u001b[39m'\u001b[39;49m, end\u001b[39m=\u001b[39;49m\u001b[39m'\u001b[39;49m\u001b[39m2018-02-10\u001b[39;49m\u001b[39m'\u001b[39;49m, freq\u001b[39m=\u001b[39;49m\u001b[39m\"\u001b[39;49m\u001b[39mDD\u001b[39;49m\u001b[39m\"\u001b[39;49m, periods\u001b[39m=\u001b[39;49m\u001b[39m10\u001b[39;49m)\n\u001b[1;32m      <a href='vscode-notebook-cell:/Users/rithwanali/Documents/dataprocessing_Rithwan_Mohamed_Ali/Data_lab/L017_timeseries.ipynb#W6sZmlsZQ%3D%3D?line=1'>2</a>\u001b[0m datatimeindex\n",
      "File \u001b[0;32m~/.local/share/virtualenvs/dataprocessing_Rithwan_Mohamed_Ali-jdCu2s_4/lib/python3.11/site-packages/pandas/core/indexes/datetimes.py:1009\u001b[0m, in \u001b[0;36mdate_range\u001b[0;34m(start, end, periods, freq, tz, normalize, name, inclusive, unit, **kwargs)\u001b[0m\n\u001b[1;32m   1006\u001b[0m \u001b[39mif\u001b[39;00m freq \u001b[39mis\u001b[39;00m \u001b[39mNone\u001b[39;00m \u001b[39mand\u001b[39;00m com\u001b[39m.\u001b[39many_none(periods, start, end):\n\u001b[1;32m   1007\u001b[0m     freq \u001b[39m=\u001b[39m \u001b[39m\"\u001b[39m\u001b[39mD\u001b[39m\u001b[39m\"\u001b[39m\n\u001b[0;32m-> 1009\u001b[0m dtarr \u001b[39m=\u001b[39m DatetimeArray\u001b[39m.\u001b[39;49m_generate_range(\n\u001b[1;32m   1010\u001b[0m     start\u001b[39m=\u001b[39;49mstart,\n\u001b[1;32m   1011\u001b[0m     end\u001b[39m=\u001b[39;49mend,\n\u001b[1;32m   1012\u001b[0m     periods\u001b[39m=\u001b[39;49mperiods,\n\u001b[1;32m   1013\u001b[0m     freq\u001b[39m=\u001b[39;49mfreq,\n\u001b[1;32m   1014\u001b[0m     tz\u001b[39m=\u001b[39;49mtz,\n\u001b[1;32m   1015\u001b[0m     normalize\u001b[39m=\u001b[39;49mnormalize,\n\u001b[1;32m   1016\u001b[0m     inclusive\u001b[39m=\u001b[39;49minclusive,\n\u001b[1;32m   1017\u001b[0m     unit\u001b[39m=\u001b[39;49munit,\n\u001b[1;32m   1018\u001b[0m     \u001b[39m*\u001b[39;49m\u001b[39m*\u001b[39;49mkwargs,\n\u001b[1;32m   1019\u001b[0m )\n\u001b[1;32m   1020\u001b[0m \u001b[39mreturn\u001b[39;00m DatetimeIndex\u001b[39m.\u001b[39m_simple_new(dtarr, name\u001b[39m=\u001b[39mname)\n",
      "File \u001b[0;32m~/.local/share/virtualenvs/dataprocessing_Rithwan_Mohamed_Ali-jdCu2s_4/lib/python3.11/site-packages/pandas/core/arrays/datetimes.py:400\u001b[0m, in \u001b[0;36mDatetimeArray._generate_range\u001b[0;34m(cls, start, end, periods, freq, tz, normalize, ambiguous, nonexistent, inclusive, unit)\u001b[0m\n\u001b[1;32m    397\u001b[0m     \u001b[39mraise\u001b[39;00m \u001b[39mValueError\u001b[39;00m(\u001b[39m\"\u001b[39m\u001b[39mMust provide freq argument if no data is supplied\u001b[39m\u001b[39m\"\u001b[39m)\n\u001b[1;32m    399\u001b[0m \u001b[39mif\u001b[39;00m com\u001b[39m.\u001b[39mcount_not_none(start, end, periods, freq) \u001b[39m!=\u001b[39m \u001b[39m3\u001b[39m:\n\u001b[0;32m--> 400\u001b[0m     \u001b[39mraise\u001b[39;00m \u001b[39mValueError\u001b[39;00m(\n\u001b[1;32m    401\u001b[0m         \u001b[39m\"\u001b[39m\u001b[39mOf the four parameters: start, end, periods, \u001b[39m\u001b[39m\"\u001b[39m\n\u001b[1;32m    402\u001b[0m         \u001b[39m\"\u001b[39m\u001b[39mand freq, exactly three must be specified\u001b[39m\u001b[39m\"\u001b[39m\n\u001b[1;32m    403\u001b[0m     )\n\u001b[1;32m    404\u001b[0m freq \u001b[39m=\u001b[39m to_offset(freq)\n\u001b[1;32m    406\u001b[0m \u001b[39mif\u001b[39;00m start \u001b[39mis\u001b[39;00m \u001b[39mnot\u001b[39;00m \u001b[39mNone\u001b[39;00m:\n",
      "\u001b[0;31mValueError\u001b[0m: Of the four parameters: start, end, periods, and freq, exactly three must be specified"
     ]
    }
   ],
   "source": [
    "datatimeindex = pd.date_range(start='2018-01-01', end='2018-02-10', freq=\"DD\", periods=10)\n",
    "datatimeindex"
   ]
  },
  {
   "cell_type": "code",
   "execution_count": 4,
   "metadata": {},
   "outputs": [
    {
     "ename": "NameError",
     "evalue": "name 'datatimeindex' is not defined",
     "output_type": "error",
     "traceback": [
      "\u001b[0;31m---------------------------------------------------------------------------\u001b[0m",
      "\u001b[0;31mNameError\u001b[0m                                 Traceback (most recent call last)",
      "\u001b[1;32m/Users/rithwanali/Documents/dataprocessing_Rithwan_Mohamed_Ali/Data_lab/L017_timeseries.ipynb Cell 5\u001b[0m line \u001b[0;36m3\n\u001b[1;32m      <a href='vscode-notebook-cell:/Users/rithwanali/Documents/dataprocessing_Rithwan_Mohamed_Ali/Data_lab/L017_timeseries.ipynb#X10sZmlsZQ%3D%3D?line=0'>1</a>\u001b[0m df\u001b[39m=\u001b[39m pd\u001b[39m.\u001b[39mDataFrame(\n\u001b[1;32m      <a href='vscode-notebook-cell:/Users/rithwanali/Documents/dataprocessing_Rithwan_Mohamed_Ali/Data_lab/L017_timeseries.ipynb#X10sZmlsZQ%3D%3D?line=1'>2</a>\u001b[0m     \u001b[39mdict\u001b[39m(\n\u001b[0;32m----> <a href='vscode-notebook-cell:/Users/rithwanali/Documents/dataprocessing_Rithwan_Mohamed_Ali/Data_lab/L017_timeseries.ipynb#X10sZmlsZQ%3D%3D?line=2'>3</a>\u001b[0m         n \u001b[39m=\u001b[39m \u001b[39mrange\u001b[39m(\u001b[39mlen\u001b[39m(datatimeindex))\n\u001b[1;32m      <a href='vscode-notebook-cell:/Users/rithwanali/Documents/dataprocessing_Rithwan_Mohamed_Ali/Data_lab/L017_timeseries.ipynb#X10sZmlsZQ%3D%3D?line=3'>4</a>\u001b[0m         )\n\u001b[1;32m      <a href='vscode-notebook-cell:/Users/rithwanali/Documents/dataprocessing_Rithwan_Mohamed_Ali/Data_lab/L017_timeseries.ipynb#X10sZmlsZQ%3D%3D?line=4'>5</a>\u001b[0m ) \n\u001b[1;32m      <a href='vscode-notebook-cell:/Users/rithwanali/Documents/dataprocessing_Rithwan_Mohamed_Ali/Data_lab/L017_timeseries.ipynb#X10sZmlsZQ%3D%3D?line=5'>6</a>\u001b[0m datatimeindex\n",
      "\u001b[0;31mNameError\u001b[0m: name 'datatimeindex' is not defined"
     ]
    }
   ],
   "source": [
    "df= pd.DataFrame(\n",
    "    dict(\n",
    "        n = range(len(datatimeindex))\n",
    "        )\n",
    ") \n",
    "datatimeindex"
   ]
  }
 ],
 "metadata": {
  "kernelspec": {
   "display_name": "dataprocessing_Rithwan_Mohamed_Ali-jdCu2s_4",
   "language": "python",
   "name": "python3"
  },
  "language_info": {
   "codemirror_mode": {
    "name": "ipython",
    "version": 3
   },
   "file_extension": ".py",
   "mimetype": "text/x-python",
   "name": "python",
   "nbconvert_exporter": "python",
   "pygments_lexer": "ipython3",
   "version": "3.11.5"
  }
 },
 "nbformat": 4,
 "nbformat_minor": 2
}
